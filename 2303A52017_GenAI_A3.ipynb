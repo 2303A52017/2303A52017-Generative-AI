{
  "nbformat": 4,
  "nbformat_minor": 0,
  "metadata": {
    "colab": {
      "provenance": []
    },
    "kernelspec": {
      "name": "python3",
      "display_name": "Python 3"
    },
    "language_info": {
      "name": "python"
    }
  },
  "cells": [
    {
      "cell_type": "code",
      "execution_count": 1,
      "metadata": {
        "id": "NkYMOzj-P_St",
        "colab": {
          "base_uri": "https://localhost:8080/"
        },
        "outputId": "d8369684-060b-42d1-fc86-1d2c57b7945b"
      },
      "outputs": [
        {
          "output_type": "stream",
          "name": "stdout",
          "text": [
            "The value of x at which f(x) has minimum value is approximately: 1.5886989353872617e-05\n"
          ]
        }
      ],
      "source": [
        "def f(x):\n",
        "    return 5 * x**4 + 3 * x**2 + 10\n",
        "\n",
        "def df(x):\n",
        "    return 20 * x**3 + 6 * x\n",
        "\n",
        "def gradient_descent(initial_x, learning_rate, max_iterations, tolerance):\n",
        "    x = initial_x\n",
        "    for i in range(max_iterations):\n",
        "        gradient = df(x)\n",
        "        new_x = x - learning_rate * gradient\n",
        "\n",
        "        if abs(new_x - x) < tolerance:\n",
        "            break\n",
        "        x = new_x\n",
        "    return x\n",
        "initial_x = 0.5\n",
        "learning_rate = 0.01\n",
        "max_iterations = 10000\n",
        "tolerance = 1e-6\n",
        "\n",
        "min_x = gradient_descent(initial_x, learning_rate, max_iterations, tolerance)\n",
        "print(f\"The value of x at which f(x) has minimum value is approximately: {min_x}\")\n"
      ]
    },
    {
      "cell_type": "code",
      "source": [
        "\n",
        "def g(x, y):\n",
        "    return 3 * x**2 + 5 * (2.71828**(-y)) + 10\n",
        "\n",
        "def dg_dx(x, y):\n",
        "    return 6 * x\n",
        "\n",
        "def dg_dy(x, y):\n",
        "    return -5 * (2.71828**(-y))\n",
        "\n",
        "def gradient_descent_2d(initial_x, initial_y, learning_rate, max_iterations, tolerance):\n",
        "    x = initial_x\n",
        "    y = initial_y\n",
        "    for i in range(max_iterations):\n",
        "        gradient_x = dg_dx(x, y)\n",
        "        gradient_y = dg_dy(x, y)\n",
        "\n",
        "        new_x = x - learning_rate * gradient_x\n",
        "        new_y = y - learning_rate * gradient_y\n",
        "\n",
        "        if abs(new_x - x) < tolerance and abs(new_y - y) < tolerance:\n",
        "            break\n",
        "\n",
        "        x = new_x\n",
        "        y = new_y\n",
        "\n",
        "    return x, y\n",
        "initial_x = 0.5\n",
        "initial_y = 0.5\n",
        "learning_rate = 0.01\n",
        "max_iterations = 10000\n",
        "tolerance = 1e-6\n",
        "min_x, min_y = gradient_descent_2d(initial_x, initial_y, learning_rate, max_iterations, tolerance)\n",
        "print(f\"The values of x and y at which g(x, y) has minimum value are approximately: x = {min_x}, y = {min_y}\")\n"
      ],
      "metadata": {
        "colab": {
          "base_uri": "https://localhost:8080/"
        },
        "id": "7ZhqFMHOhq5o",
        "outputId": "dde3df8d-b95b-4029-bf49-3f312d82ba72"
      },
      "execution_count": 2,
      "outputs": [
        {
          "output_type": "stream",
          "name": "stdout",
          "text": [
            "The values of x and y at which g(x, y) has minimum value are approximately: x = 9.495241201637587e-270, y = 6.218189064258974\n"
          ]
        }
      ]
    },
    {
      "cell_type": "code",
      "source": [
        "def z(x):\n",
        "    return 1 / (1 + 2.71828**(-x))\n",
        "def dz_dx(x):\n",
        "    sigmoid = z(x)\n",
        "    return sigmoid * (1 - sigmoid)\n",
        "\n",
        "def gradient_descent(initial_x, learning_rate, max_iterations, tolerance):\n",
        "    x = initial_x\n",
        "    for i in range(max_iterations):\n",
        "        gradient = dz_dx(x)\n",
        "        new_x = x - learning_rate * gradient\n",
        "\n",
        "        if abs(new_x - x) < tolerance:\n",
        "            break\n",
        "\n",
        "        x = new_x\n",
        "\n",
        "    return x\n",
        "initial_x = 0.5\n",
        "learning_rate = 0.01\n",
        "max_iterations = 10000\n",
        "tolerance = 1e-6\n",
        "\n",
        "min_x = gradient_descent(initial_x, learning_rate, max_iterations, tolerance)\n",
        "print(f\"The value of x at which z(x) has minimum value is approximately: {min_x}\")\n"
      ],
      "metadata": {
        "colab": {
          "base_uri": "https://localhost:8080/"
        },
        "id": "vSBi9hGdhzfS",
        "outputId": "cd7e6319-2b3c-476d-e0b5-1658285b9ea5"
      },
      "execution_count": 3,
      "outputs": [
        {
          "output_type": "stream",
          "name": "stdout",
          "text": [
            "The value of x at which z(x) has minimum value is approximately: -4.48871654183995\n"
          ]
        }
      ]
    },
    {
      "cell_type": "code",
      "source": [
        "def square_error(m, c, x, y):\n",
        "    predicted = m * x + c\n",
        "    error = (y - predicted) ** 2\n",
        "    return error\n",
        "\n",
        "def partial_derivative_m(m, c, x, y):\n",
        "    predicted = m * x + c\n",
        "    return -2 * x * (y - predicted)\n",
        "\n",
        "def partial_derivative_c(m, c, x, y):\n",
        "    predicted = m * x + c\n",
        "    return -2 * (y - predicted)\n",
        "\n",
        "def gradient_descent(x_values, y_values, initial_m, initial_c, learning_rate, max_iterations, tolerance):\n",
        "    m = initial_m\n",
        "    c = initial_c\n",
        "    n = len(x_values)\n",
        "\n",
        "    for i in range(max_iterations):\n",
        "        m_gradient = 0\n",
        "        c_gradient = 0\n",
        "        total_error = 0\n",
        "\n",
        "        for x, y in zip(x_values, y_values):\n",
        "            m_gradient += partial_derivative_m(m, c, x, y)\n",
        "            c_gradient += partial_derivative_c(m, c, x, y)\n",
        "            total_error += square_error(m, c, x, y)\n",
        "\n",
        "        m_gradient /= n\n",
        "        c_gradient /= n\n",
        "\n",
        "        new_m = m - learning_rate * m_gradient\n",
        "        new_c = c - learning_rate * c_gradient\n",
        "\n",
        "        if abs(new_m - m) < tolerance and abs(new_c - c) < tolerance:\n",
        "            break\n",
        "\n",
        "        m = new_m\n",
        "        c = new_c\n",
        "\n",
        "    return m, c\n",
        "x_values = [1, 2, 3, 4, 5]\n",
        "y_values = [2, 4, 6, 8, 10]\n",
        "\n",
        "initial_m = 0.0  # Initial slope\n",
        "initial_c = 0.0  # Initial intercept\n",
        "learning_rate = 0.01  # Step size\n",
        "max_iterations = 10000  # Maximum number of iterations\n",
        "tolerance = 1e-6  # Tolerance for stopping condition\n",
        "\n",
        "# Run the Gradient Descent Algorithm\n",
        "optimal_m, optimal_c = gradient_descent(x_values, y_values, initial_m, initial_c, learning_rate, max_iterations, tolerance)\n",
        "print(f\"The optimal values of M and C are approximately: M = {optimal_m}, C = {optimal_c}\")\n"
      ],
      "metadata": {
        "colab": {
          "base_uri": "https://localhost:8080/"
        },
        "id": "zDCqEBoniHKM",
        "outputId": "42235027-32af-411b-e177-ec997dd3626a"
      },
      "execution_count": 4,
      "outputs": [
        {
          "output_type": "stream",
          "name": "stdout",
          "text": [
            "The optimal values of M and C are approximately: M = 1.999918314122889, C = 0.0002949119351593862\n"
          ]
        }
      ]
    }
  ]
}